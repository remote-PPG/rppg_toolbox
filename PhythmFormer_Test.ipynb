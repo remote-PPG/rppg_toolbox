{
 "cells": [
  {
   "cell_type": "code",
   "execution_count": 1,
   "metadata": {},
   "outputs": [],
   "source": [
    "import torch\n",
    "from src.common.cache import CacheType\n",
    "import matplotlib.pyplot as plt\n",
    "import numpy as np\n",
    "import os\n",
    "from src.common.cuda_info import get_device\n",
    "from src.model import PSD_HR\n",
    "import cv2\n",
    "\n",
    "TEST_CACHE = CacheType.READ"
   ]
  },
  {
   "cell_type": "code",
   "execution_count": null,
   "metadata": {},
   "outputs": [
    {
     "name": "stdout",
     "output_type": "stream",
     "text": [
      "dataset size: 109\n"
     ]
    }
   ],
   "source": [
    "from PhythmFormer_Train_in_UBFC_rPPG import \\\n",
    "    T,WIDTH,HEIGHT,BATCH,sbs\n",
    "MODEL_NAME = \"RhythmFormer_Train_in_UBFC_rPPG\"\n",
    "from src.common.cache import CacheType\n",
    "from src.dataset_reader.UBFC_rPPG import UBFCrPPGsDatasetReader\n",
    "from src.data_generator.PhythmFormer import PhythmFormerDataGenerator,PhythmFormerDataConfig\n",
    "\n",
    "\n",
    "TEST_NAME = \"Test_in_UBFC_rPPG\"\n",
    "FPS = 30\n",
    "\n",
    "test_dataset_path = r\"/public/share/weiyuanwang/dataset/UBFC-rPPG\"\n",
    "test_cache_path = r\"~/cache/RhythmFormer/UBFC-rPPG/test\"\n",
    "test_dataset_reader = UBFCrPPGsDatasetReader(test_dataset_path,dataset=2,dataset_list=[\n",
    "    'subject1',\n",
    "    'subject3',\n",
    "    'subject4','subject5','subject49', \n",
    "    'subject8', 'subject9', 'subject48','subject46', 'subject47', \n",
    "])\n",
    "test_dataset_config = PhythmFormerDataConfig(\n",
    "    cache_root=test_cache_path,\n",
    "    cache_type=TEST_CACHE,\n",
    "    generate_num_workers=12,\n",
    "    step=T,\n",
    "    width=WIDTH,\n",
    "    height=HEIGHT,\n",
    "    slice_interval=T,\n",
    "    num_workers=12,\n",
    "    batch_size=BATCH,\n",
    "    load_to_memory=True\n",
    ")\n",
    "test_dataset_generator = PhythmFormerDataGenerator(config=test_dataset_config)\n",
    "test_raw_data = test_dataset_reader.read() if TEST_CACHE == CacheType.NEW_CACHE else None\n",
    "test_dataloader = test_dataset_generator.generate(test_raw_data)\n"
   ]
  },
  {
   "cell_type": "code",
   "execution_count": 3,
   "metadata": {},
   "outputs": [],
   "source": [
    "save_path = f'out/img/test/[{MODEL_NAME}]_[{TEST_NAME}]/item'\n",
    "os.makedirs(save_path, exist_ok=True)\n",
    "def draw_pred_true(y_1,y_2,name):\n",
    "    plt.figure(figsize=(8,6))\n",
    "    plt.xlabel('Frame')\n",
    "    plt.ylabel('Strength')\n",
    "    plt.yticks(np.linspace(0,1,6))\n",
    "    ax = plt.gca()\n",
    "    for spine in ax.spines:\n",
    "        ax.spines[spine].set_visible(False)\n",
    "    plt.plot(y_1,label='True BVP')\n",
    "    plt.plot(y_2,label='Predicted BVP')\n",
    "    plt.legend(loc='upper right')\n",
    "    plt.savefig(f'{save_path}/{name}.pdf', transparent=True, bbox_inches='tight')\n",
    "    plt.savefig(f'{save_path}/{name}.svg', transparent=True, bbox_inches='tight')\n",
    "    plt.close('all')\n",
    "draw_y = []\n",
    "draw_y_p = []\n",
    "min_loss = 10\n",
    "hr_true_list = list()\n",
    "hr_pred_list = list()\n",
    "with torch.no_grad():\n",
    "    psd_hr_model = PSD_HR(FPS)\n",
    "    model = sbs.model\n",
    "    loss_fn = sbs.loss_fn\n",
    "    device = get_device()\n",
    "    for i, (X, y) in enumerate(test_dataloader):\n",
    "        x_tensor = torch.as_tensor(X).float().to(device)\n",
    "        y_tensor = torch.as_tensor(y).float().to(device)\n",
    "        for b_index in range(X.shape[0]):\n",
    "            b_x = x_tensor[b_index].unsqueeze(0)\n",
    "            b_y = y_tensor[b_index].unsqueeze(0)\n",
    "            # model for prediction\n",
    "            hr = psd_hr_model(b_y)\n",
    "            y_pred = model(b_x)\n",
    "            hr_pred = psd_hr_model(y_pred)\n",
    "\n",
    "            loss = loss_fn(y_pred,b_y).item()\n",
    "            hr_true = hr.squeeze(0).detach().cpu().numpy()\n",
    "            hr_pred = hr_pred.squeeze(0).detach().cpu().numpy()\n",
    "\n",
    "            mae = round(np.abs(hr_pred - hr_true),2)\n",
    "            y_pred = y_pred.squeeze(0).detach().cpu().numpy()\n",
    "            b_y = b_y.squeeze(0).detach().cpu().numpy()\n",
    "            # hr list\n",
    "            hr_true_list.append(hr_true)\n",
    "            hr_pred_list.append(hr_pred)\n",
    "            # draw pred\n",
    "            draw_pred_true(b_y,y_pred,f'{i}_{b_index}_mae={mae:.3}')\n",
    "            if min_loss > loss:\n",
    "                min_loss = loss\n",
    "                draw_y_p = y_pred\n",
    "                draw_y = b_y\n",
    "\n",
    "hr_true_list = np.array(hr_true_list)\n",
    "hr_pred_list = np.array(hr_pred_list)\n",
    "draw_pred_true(draw_y,draw_y_p,'best')"
   ]
  },
  {
   "cell_type": "code",
   "execution_count": 4,
   "metadata": {},
   "outputs": [
    {
     "name": "stdout",
     "output_type": "stream",
     "text": [
      "MAE:12.955412844036697\n",
      "MSE:575.4558550458715\n",
      "RMSE:23.98866096817143\n"
     ]
    }
   ],
   "source": [
    "mae = np.abs((hr_pred_list-hr_true_list)).mean()\n",
    "mse = ((hr_pred_list-hr_true_list) ** 2 ).mean()\n",
    "rmse = np.sqrt(mse)\n",
    "print(f'MAE:{mae}')\n",
    "print(f'MSE:{mse}')\n",
    "print(f'RMSE:{rmse}')"
   ]
  }
 ],
 "metadata": {
  "kernelspec": {
   "display_name": "rppg_toolbox",
   "language": "python",
   "name": "python3"
  },
  "language_info": {
   "codemirror_mode": {
    "name": "ipython",
    "version": 3
   },
   "file_extension": ".py",
   "mimetype": "text/x-python",
   "name": "python",
   "nbconvert_exporter": "python",
   "pygments_lexer": "ipython3",
   "version": "3.9.19"
  }
 },
 "nbformat": 4,
 "nbformat_minor": 2
}
