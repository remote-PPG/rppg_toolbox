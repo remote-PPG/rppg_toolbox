{
 "cells": [
  {
   "cell_type": "code",
   "execution_count": 1,
   "metadata": {},
   "outputs": [],
   "source": [
    "import torch\n",
    "from common.cache import CacheType\n",
    "import matplotlib.pyplot as plt\n",
    "import numpy as np\n",
    "import cv2\n",
    "import os\n",
    "\n",
    "TEST_CACHE = CacheType.READ"
   ]
  },
  {
   "cell_type": "markdown",
   "metadata": {},
   "source": [
    "### Test in UBFC-rPPG"
   ]
  },
  {
   "cell_type": "code",
   "execution_count": 2,
   "metadata": {},
   "outputs": [
    {
     "name": "stdout",
     "output_type": "stream",
     "text": [
      "dataset size: 26\n"
     ]
    }
   ],
   "source": [
    "from common.cache import CacheType\n",
    "from data_generator.PhysNet import PhysNetDataConfig, PhysNetDataGenerator\n",
    "from dataset_reader.UBFC_rPPG import UBFCrPPGsDatasetReader\n",
    "from PhysNet_Train_in_UBFC_rPPG import \\\n",
    "    T,WIDTH,HEIGHT,BATCH,sbs_physnet as sbs\n",
    "\n",
    "TEST_NAME = \"Test_in_UBFC_rPPG\"\n",
    "MODEL_NAME = \"PhysNet_Train_in_UBFC_rPPG\"\n",
    "test_dataset_path = r\"/public/share/weiyuanwang/dataset/UBFC-rPPG\"\n",
    "test_cache_path = r\"~/cache/PhysNet/UBFC-rPPG/test\"\n",
    "test_dataset_reader = UBFCrPPGsDatasetReader(test_dataset_path,dataset=2,dataset_list=[\n",
    "    'subject49', 'subject5'\n",
    "])\n",
    "test_dataset_config = PhysNetDataConfig(\n",
    "    cache_root=test_cache_path,\n",
    "    cache_type=TEST_CACHE,batch_size=BATCH,\n",
    "    step=T,width=WIDTH,height=HEIGHT,slice_interval=T,\n",
    "    num_workers=12,generate_num_workers=12,\n",
    "    discard_front = 35,discard_back = 105,\n",
    ")\n",
    "test_dataset_generator = PhysNetDataGenerator(config=test_dataset_config)\n",
    "test_raw_data = test_dataset_reader.read() if TEST_CACHE == CacheType.NEW_CACHE else None\n",
    "test_dataloader = test_dataset_generator.generate(test_raw_data)\n"
   ]
  },
  {
   "cell_type": "markdown",
   "metadata": {},
   "source": [
    "### Draw BVP"
   ]
  },
  {
   "cell_type": "code",
   "execution_count": 11,
   "metadata": {},
   "outputs": [],
   "source": [
    "from common.cuda_info import get_device\n",
    "\n",
    "\n",
    "save_path = f'out/img/test/[{MODEL_NAME}]_[{TEST_NAME}]/item'\n",
    "map_save_path = f'out/img/test/[{MODEL_NAME}]_[{TEST_NAME}]/map'\n",
    "os.makedirs(save_path, exist_ok=True)\n",
    "os.makedirs(map_save_path, exist_ok=True)\n",
    "def draw_pred_true(y_1,y_2,name):\n",
    "    plt.figure(figsize=(8,6))\n",
    "    plt.xlabel('Frame')\n",
    "    plt.ylabel('BVP Strength')\n",
    "    ax = plt.gca()\n",
    "    for spine in ax.spines:\n",
    "        ax.spines[spine].set_visible(False)\n",
    "    plt.plot(y_1,label='True BVP')\n",
    "    plt.plot(y_2,label='Predicted BVP')\n",
    "    plt.legend(loc='upper right')\n",
    "    plt.savefig(f'{save_path}/{name}.pdf', transparent=True, bbox_inches='tight')\n",
    "    plt.savefig(f'{save_path}/{name}.svg', transparent=True, bbox_inches='tight')\n",
    "    plt.close('all')\n",
    "draw_y = []\n",
    "draw_y_p = []\n",
    "min_loss = 10\n",
    "with torch.no_grad():\n",
    "    model = sbs.model\n",
    "    loss_fn = sbs.loss_fn\n",
    "    device = get_device()\n",
    "    for i, (X, y) in enumerate(test_dataloader):\n",
    "        x_tensor = torch.as_tensor(X).float().to(device)\n",
    "        y_tensor = torch.as_tensor(y).float().to(device)\n",
    "        for b_index in range(X.shape[0]):\n",
    "            b_x = x_tensor[b_index].unsqueeze(0)\n",
    "            b_y = y_tensor[b_index].unsqueeze(0)\n",
    "            y_pred = model(b_x)\n",
    "            x_visual6464 = model.x_visual6464(b_x)\n",
    "\n",
    "            loss = loss_fn(y_pred,b_y).item()\n",
    "            y_pred = y_pred.squeeze(0).detach().cpu().numpy()\n",
    "            b_y = b_y.squeeze(0).detach().cpu().numpy()\n",
    "            frame_raw = b_x.squeeze(0).permute((1,2,3,0))[0]\n",
    "            frame_raw = (frame_raw*255).int().cpu().numpy()\n",
    "            draw_pred_true(b_y,y_pred,f'{i}_{b_index}')\n",
    "            frame = x_visual6464.squeeze(0).permute((1,2,3,0))[0]\n",
    "            frame = frame.mean(axis=2)\n",
    "            frame  = (frame - frame.min())/(frame.max()-frame.min()) * 255\n",
    "            frame = frame.int().cpu().numpy()\n",
    "            cv2.imwrite(f'{map_save_path}/{i}_{b_index}.jpg',frame)\n",
    "            cv2.imwrite(f'{map_save_path}/raw_{i}_{b_index}.jpg',frame_raw)\n",
    "\n",
    "\n",
    "            if min_loss > loss:\n",
    "                min_loss = loss\n",
    "                draw_y_p = y_pred\n",
    "                draw_y = b_y\n",
    "draw_pred_true(draw_y,draw_y_p,'best')"
   ]
  }
 ],
 "metadata": {
  "kernelspec": {
   "display_name": "Python 3.9.19 ('hrbp_hr')",
   "language": "python",
   "name": "python3"
  },
  "language_info": {
   "codemirror_mode": {
    "name": "ipython",
    "version": 3
   },
   "file_extension": ".py",
   "mimetype": "text/x-python",
   "name": "python",
   "nbconvert_exporter": "python",
   "pygments_lexer": "ipython3",
   "version": "3.9.19"
  },
  "vscode": {
   "interpreter": {
    "hash": "232221df0ac4ba71204fb4ac9ba177cce0ea101626ab38d32e748cf2b45a65dd"
   }
  }
 },
 "nbformat": 4,
 "nbformat_minor": 2
}
